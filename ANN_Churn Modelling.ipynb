{
 "cells": [
  {
   "cell_type": "code",
   "execution_count": 1,
   "metadata": {},
   "outputs": [],
   "source": [
    "# Importing the libraries\n",
    "import numpy as np\n",
    "import matplotlib.pyplot as plt\n",
    "import pandas as pd"
   ]
  },
  {
   "cell_type": "code",
   "execution_count": 2,
   "metadata": {},
   "outputs": [
    {
     "data": {
      "text/html": [
       "<div>\n",
       "<style scoped>\n",
       "    .dataframe tbody tr th:only-of-type {\n",
       "        vertical-align: middle;\n",
       "    }\n",
       "\n",
       "    .dataframe tbody tr th {\n",
       "        vertical-align: top;\n",
       "    }\n",
       "\n",
       "    .dataframe thead th {\n",
       "        text-align: right;\n",
       "    }\n",
       "</style>\n",
       "<table border=\"1\" class=\"dataframe\">\n",
       "  <thead>\n",
       "    <tr style=\"text-align: right;\">\n",
       "      <th></th>\n",
       "      <th>RowNumber</th>\n",
       "      <th>CustomerId</th>\n",
       "      <th>Surname</th>\n",
       "      <th>CreditScore</th>\n",
       "      <th>Geography</th>\n",
       "      <th>Gender</th>\n",
       "      <th>Age</th>\n",
       "      <th>Tenure</th>\n",
       "      <th>Balance</th>\n",
       "      <th>NumOfProducts</th>\n",
       "      <th>HasCrCard</th>\n",
       "      <th>IsActiveMember</th>\n",
       "      <th>EstimatedSalary</th>\n",
       "      <th>Exited</th>\n",
       "    </tr>\n",
       "  </thead>\n",
       "  <tbody>\n",
       "    <tr>\n",
       "      <th>0</th>\n",
       "      <td>1</td>\n",
       "      <td>15634602</td>\n",
       "      <td>Hargrave</td>\n",
       "      <td>619</td>\n",
       "      <td>France</td>\n",
       "      <td>Female</td>\n",
       "      <td>42</td>\n",
       "      <td>2</td>\n",
       "      <td>0.00</td>\n",
       "      <td>1</td>\n",
       "      <td>1</td>\n",
       "      <td>1</td>\n",
       "      <td>101348.88</td>\n",
       "      <td>1</td>\n",
       "    </tr>\n",
       "    <tr>\n",
       "      <th>1</th>\n",
       "      <td>2</td>\n",
       "      <td>15647311</td>\n",
       "      <td>Hill</td>\n",
       "      <td>608</td>\n",
       "      <td>Spain</td>\n",
       "      <td>Female</td>\n",
       "      <td>41</td>\n",
       "      <td>1</td>\n",
       "      <td>83807.86</td>\n",
       "      <td>1</td>\n",
       "      <td>0</td>\n",
       "      <td>1</td>\n",
       "      <td>112542.58</td>\n",
       "      <td>0</td>\n",
       "    </tr>\n",
       "    <tr>\n",
       "      <th>2</th>\n",
       "      <td>3</td>\n",
       "      <td>15619304</td>\n",
       "      <td>Onio</td>\n",
       "      <td>502</td>\n",
       "      <td>France</td>\n",
       "      <td>Female</td>\n",
       "      <td>42</td>\n",
       "      <td>8</td>\n",
       "      <td>159660.80</td>\n",
       "      <td>3</td>\n",
       "      <td>1</td>\n",
       "      <td>0</td>\n",
       "      <td>113931.57</td>\n",
       "      <td>1</td>\n",
       "    </tr>\n",
       "    <tr>\n",
       "      <th>3</th>\n",
       "      <td>4</td>\n",
       "      <td>15701354</td>\n",
       "      <td>Boni</td>\n",
       "      <td>699</td>\n",
       "      <td>France</td>\n",
       "      <td>Female</td>\n",
       "      <td>39</td>\n",
       "      <td>1</td>\n",
       "      <td>0.00</td>\n",
       "      <td>2</td>\n",
       "      <td>0</td>\n",
       "      <td>0</td>\n",
       "      <td>93826.63</td>\n",
       "      <td>0</td>\n",
       "    </tr>\n",
       "    <tr>\n",
       "      <th>4</th>\n",
       "      <td>5</td>\n",
       "      <td>15737888</td>\n",
       "      <td>Mitchell</td>\n",
       "      <td>850</td>\n",
       "      <td>Spain</td>\n",
       "      <td>Female</td>\n",
       "      <td>43</td>\n",
       "      <td>2</td>\n",
       "      <td>125510.82</td>\n",
       "      <td>1</td>\n",
       "      <td>1</td>\n",
       "      <td>1</td>\n",
       "      <td>79084.10</td>\n",
       "      <td>0</td>\n",
       "    </tr>\n",
       "  </tbody>\n",
       "</table>\n",
       "</div>"
      ],
      "text/plain": [
       "   RowNumber  CustomerId   Surname  CreditScore Geography  Gender  Age  \\\n",
       "0          1    15634602  Hargrave          619    France  Female   42   \n",
       "1          2    15647311      Hill          608     Spain  Female   41   \n",
       "2          3    15619304      Onio          502    France  Female   42   \n",
       "3          4    15701354      Boni          699    France  Female   39   \n",
       "4          5    15737888  Mitchell          850     Spain  Female   43   \n",
       "\n",
       "   Tenure    Balance  NumOfProducts  HasCrCard  IsActiveMember  \\\n",
       "0       2       0.00              1          1               1   \n",
       "1       1   83807.86              1          0               1   \n",
       "2       8  159660.80              3          1               0   \n",
       "3       1       0.00              2          0               0   \n",
       "4       2  125510.82              1          1               1   \n",
       "\n",
       "   EstimatedSalary  Exited  \n",
       "0        101348.88       1  \n",
       "1        112542.58       0  \n",
       "2        113931.57       1  \n",
       "3         93826.63       0  \n",
       "4         79084.10       0  "
      ]
     },
     "execution_count": 2,
     "metadata": {},
     "output_type": "execute_result"
    }
   ],
   "source": [
    "# Importing the dataset\n",
    "dataset = pd.read_csv('Churn_Modelling.csv')\n",
    "dataset.head()"
   ]
  },
  {
   "cell_type": "code",
   "execution_count": 3,
   "metadata": {},
   "outputs": [],
   "source": [
    "X = dataset.iloc[:, 3:13]\n",
    "y = dataset.iloc[:, 13]\n"
   ]
  },
  {
   "cell_type": "code",
   "execution_count": 4,
   "metadata": {},
   "outputs": [
    {
     "data": {
      "text/html": [
       "<div>\n",
       "<style scoped>\n",
       "    .dataframe tbody tr th:only-of-type {\n",
       "        vertical-align: middle;\n",
       "    }\n",
       "\n",
       "    .dataframe tbody tr th {\n",
       "        vertical-align: top;\n",
       "    }\n",
       "\n",
       "    .dataframe thead th {\n",
       "        text-align: right;\n",
       "    }\n",
       "</style>\n",
       "<table border=\"1\" class=\"dataframe\">\n",
       "  <thead>\n",
       "    <tr style=\"text-align: right;\">\n",
       "      <th></th>\n",
       "      <th>CreditScore</th>\n",
       "      <th>Geography</th>\n",
       "      <th>Gender</th>\n",
       "      <th>Age</th>\n",
       "      <th>Tenure</th>\n",
       "      <th>Balance</th>\n",
       "      <th>NumOfProducts</th>\n",
       "      <th>HasCrCard</th>\n",
       "      <th>IsActiveMember</th>\n",
       "      <th>EstimatedSalary</th>\n",
       "    </tr>\n",
       "  </thead>\n",
       "  <tbody>\n",
       "    <tr>\n",
       "      <th>0</th>\n",
       "      <td>619</td>\n",
       "      <td>France</td>\n",
       "      <td>Female</td>\n",
       "      <td>42</td>\n",
       "      <td>2</td>\n",
       "      <td>0.00</td>\n",
       "      <td>1</td>\n",
       "      <td>1</td>\n",
       "      <td>1</td>\n",
       "      <td>101348.88</td>\n",
       "    </tr>\n",
       "    <tr>\n",
       "      <th>1</th>\n",
       "      <td>608</td>\n",
       "      <td>Spain</td>\n",
       "      <td>Female</td>\n",
       "      <td>41</td>\n",
       "      <td>1</td>\n",
       "      <td>83807.86</td>\n",
       "      <td>1</td>\n",
       "      <td>0</td>\n",
       "      <td>1</td>\n",
       "      <td>112542.58</td>\n",
       "    </tr>\n",
       "  </tbody>\n",
       "</table>\n",
       "</div>"
      ],
      "text/plain": [
       "   CreditScore Geography  Gender  Age  Tenure   Balance  NumOfProducts  \\\n",
       "0          619    France  Female   42       2      0.00              1   \n",
       "1          608     Spain  Female   41       1  83807.86              1   \n",
       "\n",
       "   HasCrCard  IsActiveMember  EstimatedSalary  \n",
       "0          1               1        101348.88  \n",
       "1          0               1        112542.58  "
      ]
     },
     "execution_count": 4,
     "metadata": {},
     "output_type": "execute_result"
    }
   ],
   "source": [
    "X.head(2)"
   ]
  },
  {
   "cell_type": "code",
   "execution_count": 5,
   "metadata": {},
   "outputs": [
    {
     "data": {
      "text/plain": [
       "0    1\n",
       "1    0\n",
       "Name: Exited, dtype: int64"
      ]
     },
     "execution_count": 5,
     "metadata": {},
     "output_type": "execute_result"
    }
   ],
   "source": [
    "y.head(2)"
   ]
  },
  {
   "cell_type": "code",
   "execution_count": 6,
   "metadata": {},
   "outputs": [],
   "source": [
    "#Create dummy variables\n",
    "geography=pd.get_dummies(X[\"Geography\"],drop_first=True)\n",
    "gender=pd.get_dummies(X['Gender'],drop_first=True)"
   ]
  },
  {
   "cell_type": "code",
   "execution_count": 7,
   "metadata": {},
   "outputs": [],
   "source": [
    "## Concatenate the Data Frames\n",
    "X=pd.concat([X,geography,gender],axis=1)\n",
    "\n",
    "## Drop Unnecessary columns\n",
    "X=X.drop(['Geography','Gender'],axis=1)"
   ]
  },
  {
   "cell_type": "code",
   "execution_count": 8,
   "metadata": {},
   "outputs": [
    {
     "data": {
      "text/html": [
       "<div>\n",
       "<style scoped>\n",
       "    .dataframe tbody tr th:only-of-type {\n",
       "        vertical-align: middle;\n",
       "    }\n",
       "\n",
       "    .dataframe tbody tr th {\n",
       "        vertical-align: top;\n",
       "    }\n",
       "\n",
       "    .dataframe thead th {\n",
       "        text-align: right;\n",
       "    }\n",
       "</style>\n",
       "<table border=\"1\" class=\"dataframe\">\n",
       "  <thead>\n",
       "    <tr style=\"text-align: right;\">\n",
       "      <th></th>\n",
       "      <th>CreditScore</th>\n",
       "      <th>Age</th>\n",
       "      <th>Tenure</th>\n",
       "      <th>Balance</th>\n",
       "      <th>NumOfProducts</th>\n",
       "      <th>HasCrCard</th>\n",
       "      <th>IsActiveMember</th>\n",
       "      <th>EstimatedSalary</th>\n",
       "      <th>Germany</th>\n",
       "      <th>Spain</th>\n",
       "      <th>Male</th>\n",
       "    </tr>\n",
       "  </thead>\n",
       "  <tbody>\n",
       "    <tr>\n",
       "      <th>0</th>\n",
       "      <td>619</td>\n",
       "      <td>42</td>\n",
       "      <td>2</td>\n",
       "      <td>0.00</td>\n",
       "      <td>1</td>\n",
       "      <td>1</td>\n",
       "      <td>1</td>\n",
       "      <td>101348.88</td>\n",
       "      <td>0</td>\n",
       "      <td>0</td>\n",
       "      <td>0</td>\n",
       "    </tr>\n",
       "    <tr>\n",
       "      <th>1</th>\n",
       "      <td>608</td>\n",
       "      <td>41</td>\n",
       "      <td>1</td>\n",
       "      <td>83807.86</td>\n",
       "      <td>1</td>\n",
       "      <td>0</td>\n",
       "      <td>1</td>\n",
       "      <td>112542.58</td>\n",
       "      <td>0</td>\n",
       "      <td>1</td>\n",
       "      <td>0</td>\n",
       "    </tr>\n",
       "  </tbody>\n",
       "</table>\n",
       "</div>"
      ],
      "text/plain": [
       "   CreditScore  Age  Tenure   Balance  NumOfProducts  HasCrCard  \\\n",
       "0          619   42       2      0.00              1          1   \n",
       "1          608   41       1  83807.86              1          0   \n",
       "\n",
       "   IsActiveMember  EstimatedSalary  Germany  Spain  Male  \n",
       "0               1        101348.88        0      0     0  \n",
       "1               1        112542.58        0      1     0  "
      ]
     },
     "execution_count": 8,
     "metadata": {},
     "output_type": "execute_result"
    }
   ],
   "source": [
    "X.head(2)"
   ]
  },
  {
   "cell_type": "code",
   "execution_count": 9,
   "metadata": {},
   "outputs": [],
   "source": [
    "from sklearn.model_selection import train_test_split\n",
    "X_train, X_test, y_train, y_test = train_test_split(X,y, test_size=0.2, random_state=0)"
   ]
  },
  {
   "cell_type": "code",
   "execution_count": 10,
   "metadata": {},
   "outputs": [],
   "source": [
    "from sklearn.preprocessing import StandardScaler\n",
    "sc =StandardScaler()\n",
    "X_train = sc.fit_transform(X_train)\n",
    "X_test = sc.transform(X_test)"
   ]
  },
  {
   "cell_type": "code",
   "execution_count": 11,
   "metadata": {},
   "outputs": [
    {
     "name": "stderr",
     "output_type": "stream",
     "text": [
      "Using TensorFlow backend.\n"
     ]
    }
   ],
   "source": [
    "import keras\n",
    "from keras.models import Sequential\n",
    "from keras.layers import Dense\n",
    "from keras.layers import LeakyReLU, PReLU, ELU\n",
    "from keras.layers import Dropout"
   ]
  },
  {
   "cell_type": "code",
   "execution_count": 12,
   "metadata": {},
   "outputs": [],
   "source": [
    "classifier = Sequential()"
   ]
  },
  {
   "cell_type": "code",
   "execution_count": 13,
   "metadata": {},
   "outputs": [
    {
     "name": "stdout",
     "output_type": "stream",
     "text": [
      "WARNING:tensorflow:From C:\\Users\\sdasgupt\\AppData\\Local\\Continuum\\anaconda3\\lib\\site-packages\\tensorflow\\python\\ops\\resource_variable_ops.py:435: colocate_with (from tensorflow.python.framework.ops) is deprecated and will be removed in a future version.\n",
      "Instructions for updating:\n",
      "Colocations handled automatically by placer.\n"
     ]
    }
   ],
   "source": [
    "classifier.add(Dense(units=10, activation='relu',kernel_initializer='he_normal',input_dim=11))\n",
    "classifier.add(Dropout(0.2))"
   ]
  },
  {
   "cell_type": "code",
   "execution_count": 14,
   "metadata": {},
   "outputs": [],
   "source": [
    "classifier.add(Dense(units=20, kernel_initializer='he_normal', activation='relu'))\n",
    "classifier.add(Dropout(0.3))"
   ]
  },
  {
   "cell_type": "code",
   "execution_count": 15,
   "metadata": {},
   "outputs": [],
   "source": [
    "classifier.add(Dense(units=15, kernel_initializer='he_normal', activation='relu'))\n",
    "classifier.add(Dropout(0.4))"
   ]
  },
  {
   "cell_type": "code",
   "execution_count": 16,
   "metadata": {},
   "outputs": [],
   "source": [
    "classifier.add(Dense(units=1, kernel_initializer='glorot_uniform', activation='sigmoid'))"
   ]
  },
  {
   "cell_type": "code",
   "execution_count": 17,
   "metadata": {},
   "outputs": [
    {
     "name": "stdout",
     "output_type": "stream",
     "text": [
      "Model: \"sequential_1\"\n",
      "_________________________________________________________________\n",
      "Layer (type)                 Output Shape              Param #   \n",
      "=================================================================\n",
      "dense_1 (Dense)              (None, 10)                120       \n",
      "_________________________________________________________________\n",
      "dropout_1 (Dropout)          (None, 10)                0         \n",
      "_________________________________________________________________\n",
      "dense_2 (Dense)              (None, 20)                220       \n",
      "_________________________________________________________________\n",
      "dropout_2 (Dropout)          (None, 20)                0         \n",
      "_________________________________________________________________\n",
      "dense_3 (Dense)              (None, 15)                315       \n",
      "_________________________________________________________________\n",
      "dropout_3 (Dropout)          (None, 15)                0         \n",
      "_________________________________________________________________\n",
      "dense_4 (Dense)              (None, 1)                 16        \n",
      "=================================================================\n",
      "Total params: 671\n",
      "Trainable params: 671\n",
      "Non-trainable params: 0\n",
      "_________________________________________________________________\n"
     ]
    }
   ],
   "source": [
    "classifier.summary()"
   ]
  },
  {
   "cell_type": "code",
   "execution_count": 18,
   "metadata": {},
   "outputs": [],
   "source": [
    "classifier.compile(loss='binary_crossentropy', optimizer='Adam', metrics=['accuracy'])"
   ]
  },
  {
   "cell_type": "code",
   "execution_count": 19,
   "metadata": {},
   "outputs": [
    {
     "name": "stdout",
     "output_type": "stream",
     "text": [
      "WARNING:tensorflow:From C:\\Users\\sdasgupt\\AppData\\Local\\Continuum\\anaconda3\\lib\\site-packages\\tensorflow\\python\\ops\\math_ops.py:3066: to_int32 (from tensorflow.python.ops.math_ops) is deprecated and will be removed in a future version.\n",
      "Instructions for updating:\n",
      "Use tf.cast instead.\n"
     ]
    },
    {
     "name": "stderr",
     "output_type": "stream",
     "text": [
      "C:\\Users\\sdasgupt\\AppData\\Local\\Continuum\\anaconda3\\lib\\site-packages\\ipykernel_launcher.py:1: UserWarning: The `nb_epoch` argument in `fit` has been renamed `epochs`.\n",
      "  \"\"\"Entry point for launching an IPython kernel.\n"
     ]
    },
    {
     "name": "stdout",
     "output_type": "stream",
     "text": [
      "Train on 5359 samples, validate on 2641 samples\n",
      "Epoch 1/100\n",
      "5359/5359 [==============================] - 1s 149us/step - loss: 0.8393 - accuracy: 0.5208 - val_loss: 0.5730 - val_accuracy: 0.7774\n",
      "Epoch 2/100\n",
      "5359/5359 [==============================] - 0s 31us/step - loss: 0.6211 - accuracy: 0.7154 - val_loss: 0.5267 - val_accuracy: 0.7952\n",
      "Epoch 3/100\n",
      "5359/5359 [==============================] - 0s 43us/step - loss: 0.5652 - accuracy: 0.7645 - val_loss: 0.5090 - val_accuracy: 0.7967\n",
      "Epoch 4/100\n",
      "5359/5359 [==============================] - 0s 42us/step - loss: 0.5501 - accuracy: 0.7759 - val_loss: 0.4965 - val_accuracy: 0.7970\n",
      "Epoch 5/100\n",
      "5359/5359 [==============================] - 0s 40us/step - loss: 0.5299 - accuracy: 0.7847 - val_loss: 0.4862 - val_accuracy: 0.7970\n",
      "Epoch 6/100\n",
      "5359/5359 [==============================] - 0s 37us/step - loss: 0.5272 - accuracy: 0.7822 - val_loss: 0.4784 - val_accuracy: 0.7967\n",
      "Epoch 7/100\n",
      "5359/5359 [==============================] - 0s 38us/step - loss: 0.5080 - accuracy: 0.7886 - val_loss: 0.4699 - val_accuracy: 0.7978\n",
      "Epoch 8/100\n",
      "5359/5359 [==============================] - ETA: 0s - loss: 0.4971 - accuracy: 0.79 - 0s 37us/step - loss: 0.4970 - accuracy: 0.7931 - val_loss: 0.4632 - val_accuracy: 0.7978\n",
      "Epoch 9/100\n",
      "5359/5359 [==============================] - 0s 38us/step - loss: 0.4965 - accuracy: 0.7895 - val_loss: 0.4578 - val_accuracy: 0.7970\n",
      "Epoch 10/100\n",
      "5359/5359 [==============================] - 0s 38us/step - loss: 0.4764 - accuracy: 0.7977 - val_loss: 0.4522 - val_accuracy: 0.7970\n",
      "Epoch 11/100\n",
      "5359/5359 [==============================] - 0s 39us/step - loss: 0.4813 - accuracy: 0.7974 - val_loss: 0.4498 - val_accuracy: 0.7974\n",
      "Epoch 12/100\n",
      "5359/5359 [==============================] - 0s 38us/step - loss: 0.4789 - accuracy: 0.7968 - val_loss: 0.4467 - val_accuracy: 0.7989\n",
      "Epoch 13/100\n",
      "5359/5359 [==============================] - 0s 41us/step - loss: 0.4722 - accuracy: 0.7960 - val_loss: 0.4426 - val_accuracy: 0.7986\n",
      "Epoch 14/100\n",
      "5359/5359 [==============================] - 0s 40us/step - loss: 0.4725 - accuracy: 0.7960 - val_loss: 0.4400 - val_accuracy: 0.7989\n",
      "Epoch 15/100\n",
      "5359/5359 [==============================] - 0s 39us/step - loss: 0.4645 - accuracy: 0.7975 - val_loss: 0.4370 - val_accuracy: 0.7986\n",
      "Epoch 16/100\n",
      "5359/5359 [==============================] - 0s 37us/step - loss: 0.4584 - accuracy: 0.8000 - val_loss: 0.4336 - val_accuracy: 0.8001\n",
      "Epoch 17/100\n",
      "5359/5359 [==============================] - 0s 25us/step - loss: 0.4546 - accuracy: 0.8031 - val_loss: 0.4307 - val_accuracy: 0.8020\n",
      "Epoch 18/100\n",
      "5359/5359 [==============================] - 0s 22us/step - loss: 0.4542 - accuracy: 0.8009 - val_loss: 0.4275 - val_accuracy: 0.8035\n",
      "Epoch 19/100\n",
      "5359/5359 [==============================] - 0s 23us/step - loss: 0.4479 - accuracy: 0.8029 - val_loss: 0.4247 - val_accuracy: 0.8073\n",
      "Epoch 20/100\n",
      "5359/5359 [==============================] - 0s 23us/step - loss: 0.4485 - accuracy: 0.8054 - val_loss: 0.4227 - val_accuracy: 0.8088\n",
      "Epoch 21/100\n",
      "5359/5359 [==============================] - 0s 34us/step - loss: 0.4432 - accuracy: 0.8067 - val_loss: 0.4199 - val_accuracy: 0.8137\n",
      "Epoch 22/100\n",
      "5359/5359 [==============================] - 0s 33us/step - loss: 0.4402 - accuracy: 0.8085 - val_loss: 0.4169 - val_accuracy: 0.8148\n",
      "Epoch 23/100\n",
      "5359/5359 [==============================] - 0s 36us/step - loss: 0.4393 - accuracy: 0.8110 - val_loss: 0.4140 - val_accuracy: 0.8167\n",
      "Epoch 24/100\n",
      "5359/5359 [==============================] - 0s 39us/step - loss: 0.4340 - accuracy: 0.8141 - val_loss: 0.4125 - val_accuracy: 0.8183\n",
      "Epoch 25/100\n",
      "5359/5359 [==============================] - 0s 39us/step - loss: 0.4332 - accuracy: 0.8128 - val_loss: 0.4115 - val_accuracy: 0.8183\n",
      "Epoch 26/100\n",
      "5359/5359 [==============================] - 0s 42us/step - loss: 0.4279 - accuracy: 0.8205 - val_loss: 0.4101 - val_accuracy: 0.8190\n",
      "Epoch 27/100\n",
      "5359/5359 [==============================] - 0s 35us/step - loss: 0.4328 - accuracy: 0.8169 - val_loss: 0.4087 - val_accuracy: 0.8209\n",
      "Epoch 28/100\n",
      "5359/5359 [==============================] - 0s 42us/step - loss: 0.4268 - accuracy: 0.8141 - val_loss: 0.4071 - val_accuracy: 0.8205\n",
      "Epoch 29/100\n",
      "5359/5359 [==============================] - 0s 39us/step - loss: 0.4244 - accuracy: 0.8151 - val_loss: 0.4069 - val_accuracy: 0.8213\n",
      "Epoch 30/100\n",
      "5359/5359 [==============================] - 0s 38us/step - loss: 0.4179 - accuracy: 0.8164 - val_loss: 0.4046 - val_accuracy: 0.8205\n",
      "Epoch 31/100\n",
      "5359/5359 [==============================] - 0s 41us/step - loss: 0.4239 - accuracy: 0.8203 - val_loss: 0.4038 - val_accuracy: 0.8232\n",
      "Epoch 32/100\n",
      "5359/5359 [==============================] - 0s 42us/step - loss: 0.4238 - accuracy: 0.8196 - val_loss: 0.4032 - val_accuracy: 0.8220\n",
      "Epoch 33/100\n",
      "5359/5359 [==============================] - 0s 37us/step - loss: 0.4248 - accuracy: 0.8182 - val_loss: 0.4026 - val_accuracy: 0.8236\n",
      "Epoch 34/100\n",
      "5359/5359 [==============================] - 0s 41us/step - loss: 0.4264 - accuracy: 0.8166 - val_loss: 0.4038 - val_accuracy: 0.8232\n",
      "Epoch 35/100\n",
      "5359/5359 [==============================] - 0s 38us/step - loss: 0.4237 - accuracy: 0.8182 - val_loss: 0.4021 - val_accuracy: 0.8243\n",
      "Epoch 36/100\n",
      "5359/5359 [==============================] - 0s 37us/step - loss: 0.4213 - accuracy: 0.8205 - val_loss: 0.4022 - val_accuracy: 0.8254\n",
      "Epoch 37/100\n",
      "5359/5359 [==============================] - 0s 36us/step - loss: 0.4222 - accuracy: 0.8214 - val_loss: 0.4014 - val_accuracy: 0.8251\n",
      "Epoch 38/100\n",
      "5359/5359 [==============================] - 0s 38us/step - loss: 0.4128 - accuracy: 0.8209 - val_loss: 0.3993 - val_accuracy: 0.8266\n",
      "Epoch 39/100\n",
      "5359/5359 [==============================] - 0s 38us/step - loss: 0.4129 - accuracy: 0.8259 - val_loss: 0.3979 - val_accuracy: 0.8273\n",
      "Epoch 40/100\n",
      "5359/5359 [==============================] - 0s 35us/step - loss: 0.4181 - accuracy: 0.8212 - val_loss: 0.3977 - val_accuracy: 0.8281\n",
      "Epoch 41/100\n",
      "5359/5359 [==============================] - 0s 39us/step - loss: 0.4174 - accuracy: 0.8265 - val_loss: 0.3970 - val_accuracy: 0.8292\n",
      "Epoch 42/100\n",
      "5359/5359 [==============================] - 0s 40us/step - loss: 0.4060 - accuracy: 0.8265 - val_loss: 0.3946 - val_accuracy: 0.8281\n",
      "Epoch 43/100\n",
      "5359/5359 [==============================] - 0s 40us/step - loss: 0.4177 - accuracy: 0.8194 - val_loss: 0.3956 - val_accuracy: 0.8254\n",
      "Epoch 44/100\n",
      "5359/5359 [==============================] - 0s 41us/step - loss: 0.4121 - accuracy: 0.8231 - val_loss: 0.3923 - val_accuracy: 0.8270\n",
      "Epoch 45/100\n",
      "5359/5359 [==============================] - 0s 21us/step - loss: 0.4143 - accuracy: 0.8280 - val_loss: 0.3938 - val_accuracy: 0.8292\n",
      "Epoch 46/100\n",
      "5359/5359 [==============================] - 0s 18us/step - loss: 0.4029 - accuracy: 0.8253 - val_loss: 0.3908 - val_accuracy: 0.8300\n",
      "Epoch 47/100\n",
      "5359/5359 [==============================] - 0s 24us/step - loss: 0.4103 - accuracy: 0.8281 - val_loss: 0.3918 - val_accuracy: 0.8289\n",
      "Epoch 48/100\n",
      "5359/5359 [==============================] - 0s 23us/step - loss: 0.4005 - accuracy: 0.8311 - val_loss: 0.3903 - val_accuracy: 0.8307\n",
      "Epoch 49/100\n",
      "5359/5359 [==============================] - 0s 23us/step - loss: 0.4077 - accuracy: 0.8285 - val_loss: 0.3898 - val_accuracy: 0.8315\n",
      "Epoch 50/100\n",
      "5359/5359 [==============================] - 0s 36us/step - loss: 0.4032 - accuracy: 0.8306 - val_loss: 0.3894 - val_accuracy: 0.8307\n",
      "Epoch 51/100\n",
      "5359/5359 [==============================] - 0s 36us/step - loss: 0.4089 - accuracy: 0.8268 - val_loss: 0.3885 - val_accuracy: 0.8326\n",
      "Epoch 52/100\n",
      "5359/5359 [==============================] - 0s 39us/step - loss: 0.3948 - accuracy: 0.8341 - val_loss: 0.3856 - val_accuracy: 0.8345\n",
      "Epoch 53/100\n",
      "5359/5359 [==============================] - 0s 38us/step - loss: 0.4025 - accuracy: 0.8308 - val_loss: 0.3867 - val_accuracy: 0.8315\n",
      "Epoch 54/100\n",
      "5359/5359 [==============================] - 0s 37us/step - loss: 0.4073 - accuracy: 0.8287 - val_loss: 0.3872 - val_accuracy: 0.8304\n",
      "Epoch 55/100\n",
      "5359/5359 [==============================] - 0s 37us/step - loss: 0.3990 - accuracy: 0.8293 - val_loss: 0.3855 - val_accuracy: 0.8330\n",
      "Epoch 56/100\n"
     ]
    },
    {
     "name": "stdout",
     "output_type": "stream",
     "text": [
      "5359/5359 [==============================] - 0s 37us/step - loss: 0.3983 - accuracy: 0.8356 - val_loss: 0.3837 - val_accuracy: 0.8349\n",
      "Epoch 57/100\n",
      "5359/5359 [==============================] - 0s 36us/step - loss: 0.3969 - accuracy: 0.8358 - val_loss: 0.3835 - val_accuracy: 0.8357\n",
      "Epoch 58/100\n",
      "5359/5359 [==============================] - 0s 38us/step - loss: 0.3990 - accuracy: 0.8349 - val_loss: 0.3812 - val_accuracy: 0.8376\n",
      "Epoch 59/100\n",
      "5359/5359 [==============================] - 0s 37us/step - loss: 0.3987 - accuracy: 0.8334 - val_loss: 0.3819 - val_accuracy: 0.8353\n",
      "Epoch 60/100\n",
      "5359/5359 [==============================] - 0s 38us/step - loss: 0.4045 - accuracy: 0.8291 - val_loss: 0.3816 - val_accuracy: 0.8364\n",
      "Epoch 61/100\n",
      "5359/5359 [==============================] - 0s 36us/step - loss: 0.3974 - accuracy: 0.8391 - val_loss: 0.3792 - val_accuracy: 0.8376\n",
      "Epoch 62/100\n",
      "5359/5359 [==============================] - 0s 36us/step - loss: 0.3927 - accuracy: 0.8354 - val_loss: 0.3778 - val_accuracy: 0.8372\n",
      "Epoch 63/100\n",
      "5359/5359 [==============================] - 0s 36us/step - loss: 0.3997 - accuracy: 0.8375 - val_loss: 0.3775 - val_accuracy: 0.8406\n",
      "Epoch 64/100\n",
      "5359/5359 [==============================] - 0s 35us/step - loss: 0.3952 - accuracy: 0.8364 - val_loss: 0.3748 - val_accuracy: 0.8417\n",
      "Epoch 65/100\n",
      "5359/5359 [==============================] - 0s 36us/step - loss: 0.3973 - accuracy: 0.8334 - val_loss: 0.3775 - val_accuracy: 0.8413\n",
      "Epoch 66/100\n",
      "5359/5359 [==============================] - 0s 36us/step - loss: 0.4011 - accuracy: 0.8341 - val_loss: 0.3768 - val_accuracy: 0.8417\n",
      "Epoch 67/100\n",
      "5359/5359 [==============================] - 0s 39us/step - loss: 0.3925 - accuracy: 0.8382 - val_loss: 0.3753 - val_accuracy: 0.8410\n",
      "Epoch 68/100\n",
      "5359/5359 [==============================] - 0s 35us/step - loss: 0.3893 - accuracy: 0.8384 - val_loss: 0.3724 - val_accuracy: 0.8432\n",
      "Epoch 69/100\n",
      "5359/5359 [==============================] - 0s 37us/step - loss: 0.3876 - accuracy: 0.8367 - val_loss: 0.3713 - val_accuracy: 0.8444\n",
      "Epoch 70/100\n",
      "5359/5359 [==============================] - 0s 41us/step - loss: 0.3918 - accuracy: 0.8395 - val_loss: 0.3713 - val_accuracy: 0.8436\n",
      "Epoch 71/100\n",
      "5359/5359 [==============================] - 0s 39us/step - loss: 0.3895 - accuracy: 0.8373 - val_loss: 0.3697 - val_accuracy: 0.8455\n",
      "Epoch 72/100\n",
      "5359/5359 [==============================] - 0s 39us/step - loss: 0.3897 - accuracy: 0.8388 - val_loss: 0.3709 - val_accuracy: 0.8429\n",
      "Epoch 73/100\n",
      "5359/5359 [==============================] - 0s 38us/step - loss: 0.3880 - accuracy: 0.8397 - val_loss: 0.3713 - val_accuracy: 0.8417\n",
      "Epoch 74/100\n",
      "5359/5359 [==============================] - 0s 37us/step - loss: 0.3916 - accuracy: 0.8371 - val_loss: 0.3706 - val_accuracy: 0.8425\n",
      "Epoch 75/100\n",
      "5359/5359 [==============================] - 0s 25us/step - loss: 0.3913 - accuracy: 0.8377 - val_loss: 0.3705 - val_accuracy: 0.8436\n",
      "Epoch 76/100\n",
      "5359/5359 [==============================] - 0s 22us/step - loss: 0.3909 - accuracy: 0.8377 - val_loss: 0.3680 - val_accuracy: 0.8440\n",
      "Epoch 77/100\n",
      "5359/5359 [==============================] - 0s 25us/step - loss: 0.3835 - accuracy: 0.8388 - val_loss: 0.3686 - val_accuracy: 0.8444\n",
      "Epoch 78/100\n",
      "5359/5359 [==============================] - 0s 25us/step - loss: 0.3834 - accuracy: 0.8406 - val_loss: 0.3679 - val_accuracy: 0.8436\n",
      "Epoch 79/100\n",
      "5359/5359 [==============================] - 0s 25us/step - loss: 0.3926 - accuracy: 0.8360 - val_loss: 0.3713 - val_accuracy: 0.8421\n",
      "Epoch 80/100\n",
      "5359/5359 [==============================] - 0s 37us/step - loss: 0.3854 - accuracy: 0.8395 - val_loss: 0.3695 - val_accuracy: 0.8444\n",
      "Epoch 81/100\n",
      "5359/5359 [==============================] - 0s 36us/step - loss: 0.3852 - accuracy: 0.8405 - val_loss: 0.3669 - val_accuracy: 0.8470\n",
      "Epoch 82/100\n",
      "5359/5359 [==============================] - 0s 41us/step - loss: 0.3885 - accuracy: 0.8380 - val_loss: 0.3683 - val_accuracy: 0.8459\n",
      "Epoch 83/100\n",
      "5359/5359 [==============================] - 0s 40us/step - loss: 0.3867 - accuracy: 0.8391 - val_loss: 0.3689 - val_accuracy: 0.8466\n",
      "Epoch 84/100\n",
      "5359/5359 [==============================] - 0s 35us/step - loss: 0.3866 - accuracy: 0.8412 - val_loss: 0.3680 - val_accuracy: 0.8463\n",
      "Epoch 85/100\n",
      "5359/5359 [==============================] - 0s 20us/step - loss: 0.3798 - accuracy: 0.8447 - val_loss: 0.3674 - val_accuracy: 0.8463\n",
      "Epoch 86/100\n",
      "5359/5359 [==============================] - 0s 35us/step - loss: 0.3778 - accuracy: 0.8421 - val_loss: 0.3664 - val_accuracy: 0.8463\n",
      "Epoch 87/100\n",
      "5359/5359 [==============================] - 0s 39us/step - loss: 0.3844 - accuracy: 0.8401 - val_loss: 0.3692 - val_accuracy: 0.8429\n",
      "Epoch 88/100\n",
      "5359/5359 [==============================] - 0s 35us/step - loss: 0.3860 - accuracy: 0.8405 - val_loss: 0.3685 - val_accuracy: 0.8451\n",
      "Epoch 89/100\n",
      "5359/5359 [==============================] - 0s 35us/step - loss: 0.3829 - accuracy: 0.8457 - val_loss: 0.3679 - val_accuracy: 0.8474\n",
      "Epoch 90/100\n",
      "5359/5359 [==============================] - 0s 41us/step - loss: 0.3867 - accuracy: 0.8369 - val_loss: 0.3684 - val_accuracy: 0.8448\n",
      "Epoch 91/100\n",
      "5359/5359 [==============================] - 0s 40us/step - loss: 0.3771 - accuracy: 0.8442 - val_loss: 0.3654 - val_accuracy: 0.8455\n",
      "Epoch 92/100\n",
      "5359/5359 [==============================] - 0s 37us/step - loss: 0.3877 - accuracy: 0.8386 - val_loss: 0.3665 - val_accuracy: 0.8448\n",
      "Epoch 93/100\n",
      "5359/5359 [==============================] - 0s 40us/step - loss: 0.3831 - accuracy: 0.8354 - val_loss: 0.3675 - val_accuracy: 0.8448\n",
      "Epoch 94/100\n",
      "5359/5359 [==============================] - 0s 38us/step - loss: 0.3795 - accuracy: 0.8382 - val_loss: 0.3656 - val_accuracy: 0.8451\n",
      "Epoch 95/100\n",
      "5359/5359 [==============================] - 0s 39us/step - loss: 0.3878 - accuracy: 0.8367 - val_loss: 0.3664 - val_accuracy: 0.8466\n",
      "Epoch 96/100\n",
      "5359/5359 [==============================] - 0s 37us/step - loss: 0.3764 - accuracy: 0.8459 - val_loss: 0.3653 - val_accuracy: 0.8455\n",
      "Epoch 97/100\n",
      "5359/5359 [==============================] - 0s 36us/step - loss: 0.3852 - accuracy: 0.8444 - val_loss: 0.3657 - val_accuracy: 0.8444\n",
      "Epoch 98/100\n",
      "5359/5359 [==============================] - 0s 34us/step - loss: 0.3859 - accuracy: 0.8414 - val_loss: 0.3671 - val_accuracy: 0.8451\n",
      "Epoch 99/100\n",
      "5359/5359 [==============================] - 0s 38us/step - loss: 0.3761 - accuracy: 0.8464 - val_loss: 0.3644 - val_accuracy: 0.8459\n",
      "Epoch 100/100\n",
      "5359/5359 [==============================] - 0s 36us/step - loss: 0.3748 - accuracy: 0.8466 - val_loss: 0.3627 - val_accuracy: 0.8440\n"
     ]
    }
   ],
   "source": [
    "model_history = classifier.fit(X_train,y_train,validation_split=0.33, batch_size=100, nb_epoch=100)"
   ]
  },
  {
   "cell_type": "code",
   "execution_count": 20,
   "metadata": {},
   "outputs": [],
   "source": [
    "# Predicting the Test set results\n",
    "y_pred = classifier.predict(X_test)\n",
    "y_pred = (y_pred > 0.5)"
   ]
  },
  {
   "cell_type": "code",
   "execution_count": 21,
   "metadata": {},
   "outputs": [
    {
     "data": {
      "text/plain": [
       "array([[False],\n",
       "       [False],\n",
       "       [False],\n",
       "       ...,\n",
       "       [False],\n",
       "       [False],\n",
       "       [False]])"
      ]
     },
     "execution_count": 21,
     "metadata": {},
     "output_type": "execute_result"
    }
   ],
   "source": [
    "y_pred"
   ]
  },
  {
   "cell_type": "code",
   "execution_count": 22,
   "metadata": {},
   "outputs": [
    {
     "data": {
      "text/plain": [
       "array([[1554,   41],\n",
       "       [ 239,  166]], dtype=int64)"
      ]
     },
     "execution_count": 22,
     "metadata": {},
     "output_type": "execute_result"
    }
   ],
   "source": [
    "from sklearn.metrics import confusion_matrix\n",
    "cm = confusion_matrix(y_test,y_pred)\n",
    "cm"
   ]
  },
  {
   "cell_type": "code",
   "execution_count": 23,
   "metadata": {},
   "outputs": [
    {
     "data": {
      "text/plain": [
       "0.86"
      ]
     },
     "execution_count": 23,
     "metadata": {},
     "output_type": "execute_result"
    }
   ],
   "source": [
    "from sklearn.metrics import accuracy_score\n",
    "score = accuracy_score(y_test,y_pred)\n",
    "score"
   ]
  }
 ],
 "metadata": {
  "kernelspec": {
   "display_name": "Python 3",
   "language": "python",
   "name": "python3"
  },
  "language_info": {
   "codemirror_mode": {
    "name": "ipython",
    "version": 3
   },
   "file_extension": ".py",
   "mimetype": "text/x-python",
   "name": "python",
   "nbconvert_exporter": "python",
   "pygments_lexer": "ipython3",
   "version": "3.7.3"
  }
 },
 "nbformat": 4,
 "nbformat_minor": 2
}
