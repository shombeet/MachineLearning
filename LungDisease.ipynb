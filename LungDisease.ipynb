{
 "cells": [
  {
   "cell_type": "code",
   "execution_count": 1,
   "metadata": {
    "colab": {},
    "colab_type": "code",
    "id": "vTvZcymIUci9"
   },
   "outputs": [
    {
     "name": "stderr",
     "output_type": "stream",
     "text": [
      "Using TensorFlow backend.\n"
     ]
    }
   ],
   "source": [
    "from keras.layers import Input, Lambda, Dense, Flatten\n",
    "from keras.models import Model\n",
    "from keras.applications.vgg16 import VGG16\n",
    "from keras.applications.vgg16 import preprocess_input\n",
    "from keras.preprocessing import image\n",
    "from keras.preprocessing.image import ImageDataGenerator\n",
    "from keras.models import Sequential\n",
    "import numpy as np\n",
    "from glob import glob\n",
    "import matplotlib.pyplot as plt\n",
    "from tqdm import tqdm"
   ]
  },
  {
   "cell_type": "code",
   "execution_count": 2,
   "metadata": {
    "colab": {},
    "colab_type": "code",
    "id": "pp05ues9V0bG"
   },
   "outputs": [],
   "source": [
    "IMAGE_SIZE=[224,224]"
   ]
  },
  {
   "cell_type": "code",
   "execution_count": 3,
   "metadata": {
    "colab": {},
    "colab_type": "code",
    "id": "CYDivoZ8V4UY"
   },
   "outputs": [],
   "source": [
    "train_path='chest_xray/train'\n",
    "test_path='chest_xray/test'"
   ]
  },
  {
   "cell_type": "code",
   "execution_count": 4,
   "metadata": {
    "colab": {},
    "colab_type": "code",
    "id": "FmanfYNvWMjZ"
   },
   "outputs": [
    {
     "name": "stdout",
     "output_type": "stream",
     "text": [
      "WARNING:tensorflow:From C:\\Users\\sdasgupt\\AppData\\Local\\Continuum\\anaconda3\\lib\\site-packages\\tensorflow\\python\\ops\\resource_variable_ops.py:435: colocate_with (from tensorflow.python.framework.ops) is deprecated and will be removed in a future version.\n",
      "Instructions for updating:\n",
      "Colocations handled automatically by placer.\n"
     ]
    }
   ],
   "source": [
    "# add preprocessing layer to the front of VGG\n",
    "vgg = VGG16(input_shape=IMAGE_SIZE + [3], weights='imagenet', include_top=False)"
   ]
  },
  {
   "cell_type": "code",
   "execution_count": 5,
   "metadata": {
    "colab": {},
    "colab_type": "code",
    "id": "nO-yPHxAWYB0"
   },
   "outputs": [
    {
     "name": "stderr",
     "output_type": "stream",
     "text": [
      "100%|███████████████████████████████████████████████████████████████████████████████| 19/19 [00:00<00:00, 19037.69it/s]\n"
     ]
    }
   ],
   "source": [
    "# don't train existing weights\n",
    "for layer in tqdm(vgg.layers):\n",
    "  layer.trainable = False"
   ]
  },
  {
   "cell_type": "code",
   "execution_count": 6,
   "metadata": {
    "colab": {},
    "colab_type": "code",
    "id": "l-89jlZyWaPw"
   },
   "outputs": [],
   "source": [
    "  # useful for getting number of classes\n",
    "folders = glob('chest_xray/train/*')"
   ]
  },
  {
   "cell_type": "code",
   "execution_count": 7,
   "metadata": {
    "colab": {
     "base_uri": "https://localhost:8080/",
     "height": 35
    },
    "colab_type": "code",
    "id": "3vsdBtcQemuC",
    "outputId": "faab28b9-16e8-4315-f335-f3041c6ba73a"
   },
   "outputs": [
    {
     "data": {
      "text/plain": [
       "2"
      ]
     },
     "execution_count": 7,
     "metadata": {},
     "output_type": "execute_result"
    }
   ],
   "source": [
    "len(folders)"
   ]
  },
  {
   "cell_type": "code",
   "execution_count": 8,
   "metadata": {
    "colab": {},
    "colab_type": "code",
    "id": "p9j7FqYcWbUq"
   },
   "outputs": [],
   "source": [
    "# our layers - you can add more if you want\n",
    "x = Flatten()(vgg.output)\n",
    "# x = Dense(1000, activation='relu')(x)\n",
    "prediction = Dense(len(folders), activation='softmax')(x)"
   ]
  },
  {
   "cell_type": "code",
   "execution_count": 9,
   "metadata": {
    "colab": {},
    "colab_type": "code",
    "id": "lzw2nhpkWgM4"
   },
   "outputs": [],
   "source": [
    "# create a model object\n",
    "model = Model(inputs=vgg.input, outputs=prediction)"
   ]
  },
  {
   "cell_type": "code",
   "execution_count": 10,
   "metadata": {
    "colab": {
     "base_uri": "https://localhost:8080/",
     "height": 884
    },
    "colab_type": "code",
    "id": "6ysReOCcWiWL",
    "outputId": "c0cb252b-9821-41a0-ad08-d4a2d6c03a0f"
   },
   "outputs": [
    {
     "name": "stdout",
     "output_type": "stream",
     "text": [
      "Model: \"model_1\"\n",
      "_________________________________________________________________\n",
      "Layer (type)                 Output Shape              Param #   \n",
      "=================================================================\n",
      "input_1 (InputLayer)         (None, 224, 224, 3)       0         \n",
      "_________________________________________________________________\n",
      "block1_conv1 (Conv2D)        (None, 224, 224, 64)      1792      \n",
      "_________________________________________________________________\n",
      "block1_conv2 (Conv2D)        (None, 224, 224, 64)      36928     \n",
      "_________________________________________________________________\n",
      "block1_pool (MaxPooling2D)   (None, 112, 112, 64)      0         \n",
      "_________________________________________________________________\n",
      "block2_conv1 (Conv2D)        (None, 112, 112, 128)     73856     \n",
      "_________________________________________________________________\n",
      "block2_conv2 (Conv2D)        (None, 112, 112, 128)     147584    \n",
      "_________________________________________________________________\n",
      "block2_pool (MaxPooling2D)   (None, 56, 56, 128)       0         \n",
      "_________________________________________________________________\n",
      "block3_conv1 (Conv2D)        (None, 56, 56, 256)       295168    \n",
      "_________________________________________________________________\n",
      "block3_conv2 (Conv2D)        (None, 56, 56, 256)       590080    \n",
      "_________________________________________________________________\n",
      "block3_conv3 (Conv2D)        (None, 56, 56, 256)       590080    \n",
      "_________________________________________________________________\n",
      "block3_pool (MaxPooling2D)   (None, 28, 28, 256)       0         \n",
      "_________________________________________________________________\n",
      "block4_conv1 (Conv2D)        (None, 28, 28, 512)       1180160   \n",
      "_________________________________________________________________\n",
      "block4_conv2 (Conv2D)        (None, 28, 28, 512)       2359808   \n",
      "_________________________________________________________________\n",
      "block4_conv3 (Conv2D)        (None, 28, 28, 512)       2359808   \n",
      "_________________________________________________________________\n",
      "block4_pool (MaxPooling2D)   (None, 14, 14, 512)       0         \n",
      "_________________________________________________________________\n",
      "block5_conv1 (Conv2D)        (None, 14, 14, 512)       2359808   \n",
      "_________________________________________________________________\n",
      "block5_conv2 (Conv2D)        (None, 14, 14, 512)       2359808   \n",
      "_________________________________________________________________\n",
      "block5_conv3 (Conv2D)        (None, 14, 14, 512)       2359808   \n",
      "_________________________________________________________________\n",
      "block5_pool (MaxPooling2D)   (None, 7, 7, 512)         0         \n",
      "_________________________________________________________________\n",
      "flatten_1 (Flatten)          (None, 25088)             0         \n",
      "_________________________________________________________________\n",
      "dense_1 (Dense)              (None, 2)                 50178     \n",
      "=================================================================\n",
      "Total params: 14,764,866\n",
      "Trainable params: 50,178\n",
      "Non-trainable params: 14,714,688\n",
      "_________________________________________________________________\n"
     ]
    }
   ],
   "source": [
    "# view the structure of the model\n",
    "model.summary()"
   ]
  },
  {
   "cell_type": "code",
   "execution_count": 11,
   "metadata": {
    "colab": {},
    "colab_type": "code",
    "id": "7-xZQl1oWlHO"
   },
   "outputs": [],
   "source": [
    "# tell the model what cost and optimization method to use\n",
    "model.compile(\n",
    "  loss='categorical_crossentropy',\n",
    "  optimizer='adam',\n",
    "  metrics=['accuracy']\n",
    ")"
   ]
  },
  {
   "cell_type": "code",
   "execution_count": 12,
   "metadata": {
    "colab": {},
    "colab_type": "code",
    "id": "28zsOscwWlLH"
   },
   "outputs": [],
   "source": [
    "from keras.preprocessing.image import ImageDataGenerator\n",
    "\n",
    "train_datagen = ImageDataGenerator(rescale = 1./255,\n",
    "                                   shear_range = 0.2,\n",
    "                                   zoom_range = 0.2,\n",
    "                                   horizontal_flip = True)"
   ]
  },
  {
   "cell_type": "code",
   "execution_count": 13,
   "metadata": {
    "colab": {},
    "colab_type": "code",
    "id": "y9ZHv6DuWlOo"
   },
   "outputs": [],
   "source": [
    "test_datagen = ImageDataGenerator(rescale = 1./255)"
   ]
  },
  {
   "cell_type": "code",
   "execution_count": 14,
   "metadata": {
    "colab": {
     "base_uri": "https://localhost:8080/",
     "height": 35
    },
    "colab_type": "code",
    "id": "hEVTmugdWtiC",
    "outputId": "c90860cf-f82a-4603-c8b9-b5192bf5086e"
   },
   "outputs": [
    {
     "name": "stdout",
     "output_type": "stream",
     "text": [
      "Found 5216 images belonging to 2 classes.\n"
     ]
    }
   ],
   "source": [
    "training_set = train_datagen.flow_from_directory('chest_xray/train/',\n",
    "                                                 target_size = (224, 224),\n",
    "                                                 batch_size = 32,\n",
    "                                                 class_mode = 'categorical')"
   ]
  },
  {
   "cell_type": "code",
   "execution_count": 15,
   "metadata": {
    "colab": {
     "base_uri": "https://localhost:8080/",
     "height": 35
    },
    "colab_type": "code",
    "id": "LoSUnsgOWxRe",
    "outputId": "3c89eca2-79db-4ce3-aba7-6944e4fdc0a9"
   },
   "outputs": [
    {
     "name": "stdout",
     "output_type": "stream",
     "text": [
      "Found 624 images belonging to 2 classes.\n"
     ]
    }
   ],
   "source": [
    "test_set = test_datagen.flow_from_directory('chest_xray/test/',\n",
    "                                            target_size = (224, 224),\n",
    "                                            batch_size = 32,\n",
    "                                            class_mode = 'categorical')\n"
   ]
  },
  {
   "cell_type": "code",
   "execution_count": null,
   "metadata": {
    "colab": {
     "base_uri": "https://localhost:8080/",
     "height": 401
    },
    "colab_type": "code",
    "id": "tLJ-roIkW4Ev",
    "outputId": "bc687260-5d58-405f-9975-752dd7e995fe"
   },
   "outputs": [
    {
     "name": "stdout",
     "output_type": "stream",
     "text": [
      "WARNING:tensorflow:From C:\\Users\\sdasgupt\\AppData\\Local\\Continuum\\anaconda3\\lib\\site-packages\\tensorflow\\python\\ops\\math_ops.py:3066: to_int32 (from tensorflow.python.ops.math_ops) is deprecated and will be removed in a future version.\n",
      "Instructions for updating:\n",
      "Use tf.cast instead.\n",
      "Epoch 1/5\n",
      " 84/163 [==============>...............] - ETA: 54:39 - loss: 0.6948 - accuracy: 0.531 - ETA: 50:22 - loss: 0.6349 - accuracy: 0.718 - ETA: 46:44 - loss: 0.9877 - accuracy: 0.729 - ETA: 46:19 - loss: 1.0473 - accuracy: 0.718 - ETA: 44:30 - loss: 0.8875 - accuracy: 0.762 - ETA: 43:14 - loss: 0.8745 - accuracy: 0.724 - ETA: 42:07 - loss: 0.8388 - accuracy: 0.718 - ETA: 41:21 - loss: 0.7613 - accuracy: 0.750 - ETA: 40:42 - loss: 0.7041 - accuracy: 0.760 - ETA: 40:09 - loss: 0.6789 - accuracy: 0.759 - ETA: 39:43 - loss: 0.6603 - accuracy: 0.764 - ETA: 39:19 - loss: 0.6442 - accuracy: 0.765 - ETA: 38:56 - loss: 0.6298 - accuracy: 0.766 - ETA: 38:31 - loss: 0.5955 - accuracy: 0.781 - ETA: 38:10 - loss: 0.5793 - accuracy: 0.787 - ETA: 37:46 - loss: 0.5784 - accuracy: 0.785 - ETA: 37:24 - loss: 0.5660 - accuracy: 0.790 - ETA: 37:01 - loss: 0.5504 - accuracy: 0.796 - ETA: 36:40 - loss: 0.5320 - accuracy: 0.801 - ETA: 36:18 - loss: 0.5177 - accuracy: 0.806 - ETA: 35:57 - loss: 0.5015 - accuracy: 0.811 - ETA: 35:34 - loss: 0.4852 - accuracy: 0.815 - ETA: 35:09 - loss: 0.4696 - accuracy: 0.819 - ETA: 34:47 - loss: 0.4552 - accuracy: 0.822 - ETA: 34:25 - loss: 0.4398 - accuracy: 0.828 - ETA: 34:02 - loss: 0.4337 - accuracy: 0.830 - ETA: 33:41 - loss: 0.4238 - accuracy: 0.832 - ETA: 33:19 - loss: 0.4098 - accuracy: 0.838 - ETA: 32:59 - loss: 0.4014 - accuracy: 0.841 - ETA: 32:39 - loss: 0.4018 - accuracy: 0.843 - ETA: 32:21 - loss: 0.3924 - accuracy: 0.848 - ETA: 32:01 - loss: 0.3831 - accuracy: 0.851 - ETA: 31:43 - loss: 0.3756 - accuracy: 0.855 - ETA: 31:26 - loss: 0.3712 - accuracy: 0.857 - ETA: 31:11 - loss: 0.3658 - accuracy: 0.858 - ETA: 30:56 - loss: 0.3590 - accuracy: 0.860 - ETA: 30:37 - loss: 0.3506 - accuracy: 0.864 - ETA: 30:23 - loss: 0.3463 - accuracy: 0.865 - ETA: 30:11 - loss: 0.3421 - accuracy: 0.866 - ETA: 29:54 - loss: 0.3377 - accuracy: 0.868 - ETA: 29:38 - loss: 0.3302 - accuracy: 0.871 - ETA: 29:22 - loss: 0.3265 - accuracy: 0.872 - ETA: 29:06 - loss: 0.3215 - accuracy: 0.873 - ETA: 28:50 - loss: 0.3243 - accuracy: 0.872 - ETA: 28:36 - loss: 0.3208 - accuracy: 0.873 - ETA: 28:20 - loss: 0.3155 - accuracy: 0.875 - ETA: 28:07 - loss: 0.3109 - accuracy: 0.877 - ETA: 27:54 - loss: 0.3052 - accuracy: 0.880 - ETA: 27:42 - loss: 0.3045 - accuracy: 0.880 - ETA: 27:29 - loss: 0.3114 - accuracy: 0.878 - ETA: 27:13 - loss: 0.3066 - accuracy: 0.881 - ETA: 26:56 - loss: 0.3060 - accuracy: 0.879 - ETA: 26:41 - loss: 0.3046 - accuracy: 0.880 - ETA: 26:24 - loss: 0.3018 - accuracy: 0.880 - ETA: 26:08 - loss: 0.3014 - accuracy: 0.880 - ETA: 25:53 - loss: 0.2995 - accuracy: 0.880 - ETA: 25:37 - loss: 0.2975 - accuracy: 0.881 - ETA: 25:25 - loss: 0.2933 - accuracy: 0.882 - ETA: 25:11 - loss: 0.2919 - accuracy: 0.884 - ETA: 24:56 - loss: 0.2904 - accuracy: 0.884 - ETA: 24:41 - loss: 0.2875 - accuracy: 0.885 - ETA: 24:28 - loss: 0.2860 - accuracy: 0.886 - ETA: 24:16 - loss: 0.2834 - accuracy: 0.887 - ETA: 24:00 - loss: 0.2819 - accuracy: 0.887 - ETA: 23:43 - loss: 0.2791 - accuracy: 0.888 - ETA: 23:27 - loss: 0.2767 - accuracy: 0.889 - ETA: 23:11 - loss: 0.2738 - accuracy: 0.890 - ETA: 22:55 - loss: 0.2705 - accuracy: 0.892 - ETA: 22:40 - loss: 0.2677 - accuracy: 0.893 - ETA: 22:24 - loss: 0.2651 - accuracy: 0.895 - ETA: 22:08 - loss: 0.2627 - accuracy: 0.896 - ETA: 21:54 - loss: 0.2609 - accuracy: 0.896 - ETA: 21:40 - loss: 0.2578 - accuracy: 0.897 - ETA: 21:27 - loss: 0.2558 - accuracy: 0.898 - ETA: 21:14 - loss: 0.2540 - accuracy: 0.899 - ETA: 20:59 - loss: 0.2552 - accuracy: 0.899 - ETA: 20:42 - loss: 0.2550 - accuracy: 0.899 - ETA: 20:26 - loss: 0.2533 - accuracy: 0.900 - ETA: 20:11 - loss: 0.2515 - accuracy: 0.901 - ETA: 19:55 - loss: 0.2496 - accuracy: 0.902 - ETA: 19:41 - loss: 0.2523 - accuracy: 0.901 - ETA: 19:26 - loss: 0.2522 - accuracy: 0.900 - ETA: 19:11 - loss: 0.2527 - accuracy: 0.900 - ETA: 18:58 - loss: 0.2519 - accuracy: 0.9003"
     ]
    }
   ],
   "source": [
    "# fit the model\n",
    "r = model.fit_generator(\n",
    "  training_set,\n",
    "  validation_data=test_set,\n",
    "  epochs=5,\n",
    "  steps_per_epoch=len(training_set),\n",
    "  validation_steps=len(test_set)\n",
    ")"
   ]
  },
  {
   "cell_type": "code",
   "execution_count": null,
   "metadata": {
    "colab": {},
    "colab_type": "code",
    "id": "MgLJRYB8W54j"
   },
   "outputs": [],
   "source": [
    "# loss\n",
    "plt.plot(r.history['loss'], label='train loss')\n",
    "plt.plot(r.history['val_loss'], label='val loss')\n",
    "plt.legend()\n",
    "plt.show()\n",
    "plt.savefig('LossVal_loss')"
   ]
  },
  {
   "cell_type": "code",
   "execution_count": null,
   "metadata": {},
   "outputs": [],
   "source": [
    "r.history"
   ]
  },
  {
   "cell_type": "code",
   "execution_count": null,
   "metadata": {
    "colab": {},
    "colab_type": "code",
    "id": "UcYI3C11W85J"
   },
   "outputs": [],
   "source": [
    "# accuracies\n",
    "plt.plot(r.history['accuracy'], label='train acc')\n",
    "plt.plot(r.history['val_accuracy'], label='val acc')\n",
    "plt.legend()\n",
    "plt.show()\n",
    "plt.savefig('AccVal_acc')"
   ]
  },
  {
   "cell_type": "code",
   "execution_count": null,
   "metadata": {
    "colab": {},
    "colab_type": "code",
    "id": "zkMMra93W-1z"
   },
   "outputs": [],
   "source": [
    "import tensorflow as tf\n",
    "from keras.models import load_model\n",
    "model.save('facefeatures_new_model.h5')"
   ]
  }
 ],
 "metadata": {
  "colab": {
   "name": "TransferLearning.ipynb",
   "provenance": []
  },
  "kernelspec": {
   "display_name": "Python 3",
   "language": "python",
   "name": "python3"
  },
  "language_info": {
   "codemirror_mode": {
    "name": "ipython",
    "version": 3
   },
   "file_extension": ".py",
   "mimetype": "text/x-python",
   "name": "python",
   "nbconvert_exporter": "python",
   "pygments_lexer": "ipython3",
   "version": "3.7.3"
  }
 },
 "nbformat": 4,
 "nbformat_minor": 1
}
